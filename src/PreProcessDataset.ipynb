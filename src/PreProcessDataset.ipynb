{
 "cells": [
  {
   "cell_type": "code",
   "execution_count": 1,
   "metadata": {
    "collapsed": true
   },
   "outputs": [],
   "source": [
    "import json"
   ]
  },
  {
   "cell_type": "code",
   "execution_count": 2,
   "metadata": {
    "collapsed": true
   },
   "outputs": [],
   "source": [
    "import sys\n",
    "stdout = sys.stdout\n",
    "reload(sys)\n",
    "DEFAULT_ENCODING = sys.getdefaultencoding()\n",
    "sys.setdefaultencoding('utf-8')\n",
    "sys.stdout = stdout"
   ]
  },
  {
   "cell_type": "code",
   "execution_count": 3,
   "metadata": {
    "collapsed": true
   },
   "outputs": [],
   "source": [
    "with open('small_dev-v1.1.json') as json_data:\n",
    "    d = json.load(json_data)"
   ]
  },
  {
   "cell_type": "code",
   "execution_count": 4,
   "metadata": {},
   "outputs": [
    {
     "name": "stdout",
     "output_type": "stream",
     "text": [
      "Super_Bowl_50\n"
     ]
    }
   ],
   "source": [
    "print d['data'][0]['title']"
   ]
  },
  {
   "cell_type": "code",
   "execution_count": 5,
   "metadata": {
    "collapsed": true
   },
   "outputs": [],
   "source": [
    "with open('dataset.json', 'w') as the_file:\n",
    "    for data_id in range(len(d['data'])):\n",
    "        for par_id in range(len(d['data'][data_id]['paragraphs'])):\n",
    "            for qas in d['data'][data_id]['paragraphs'][par_id]['qas']:\n",
    "                id_       = qas['id']\n",
    "                question  = qas['question'].replace('\"', '\\\\\"')\n",
    "                answer    = qas['answers'][0]['text'].replace('\"', '\\\\\"')\n",
    "                reference = d['data'][data_id]['title'] + '_' + str(par_id)\n",
    "                the_file.write('{\"index\":{\"_index\":\"qas\",\"_id\":\"'+id_+'\"}}\\n')\n",
    "                the_file.write('{\"question\":\"'+question+'\",\"answer\":\"'+answer+'\",\"reference\":\"'+reference+'\"}\\n')"
   ]
  },
  {
   "cell_type": "code",
   "execution_count": 6,
   "metadata": {
    "collapsed": true
   },
   "outputs": [],
   "source": [
    "with open('small_train-v1.1.json') as json_data:\n",
    "    e = json.load(json_data)"
   ]
  },
  {
   "cell_type": "code",
   "execution_count": 7,
   "metadata": {
    "collapsed": true
   },
   "outputs": [],
   "source": [
    "with open('dataset.json', 'a') as the_file:\n",
    "    for data_id in range(len(e['data'])):\n",
    "        for par_id in range(len(e['data'][data_id]['paragraphs'])):\n",
    "            for qas in e['data'][data_id]['paragraphs'][par_id]['qas']:\n",
    "                id_       = qas['id']\n",
    "                question  = qas['question'].replace('\"', '\\\\\"')\n",
    "                answer    = qas['answers'][0]['text'].replace('\"', '\\\\\"')\n",
    "                reference = e['data'][data_id]['title'] + '_' + str(par_id)\n",
    "                the_file.write('{\"index\":{\"_index\":\"qas\",\"_id\":\"'+id_+'\"}}\\n')\n",
    "                the_file.write('{\"question\":\"'+question+'\",\"answer\":\"'+answer+'\",\"reference\":\"'+reference+'\"}\\n')"
   ]
  },
  {
   "cell_type": "code",
   "execution_count": null,
   "metadata": {
    "collapsed": true
   },
   "outputs": [],
   "source": []
  },
  {
   "cell_type": "code",
   "execution_count": 8,
   "metadata": {
    "collapsed": true
   },
   "outputs": [],
   "source": [
    "with open('context.json', 'w') as the_file:\n",
    "    for data_id in range(len(d['data'])):\n",
    "        for par_id in range(len(d['data'][data_id]['paragraphs'])):\n",
    "            reference = d['data'][data_id]['title'] + '_' + str(par_id)\n",
    "            title     = d['data'][data_id]['title'].lower()\n",
    "            context   = d['data'][data_id]['paragraphs'][par_id]['context'].replace('\"', '\\\\\"').replace('\\n','')\n",
    "            the_file.write('{\"index\":{\"_index\":\"context\",\"_id\":\"'+reference+'\"}}\\n')\n",
    "            the_file.write('{\"context\":\"'+context+'\"}\\n')"
   ]
  },
  {
   "cell_type": "code",
   "execution_count": 9,
   "metadata": {
    "collapsed": true
   },
   "outputs": [],
   "source": [
    "with open('context.json', 'a') as the_file:\n",
    "    for data_id in range(len(e['data'])):\n",
    "        for par_id in range(len(e['data'][data_id]['paragraphs'])):\n",
    "            reference = e['data'][data_id]['title'] + '_' + str(par_id)\n",
    "            title     = e['data'][data_id]['title'].lower()\n",
    "            context   = e['data'][data_id]['paragraphs'][par_id]['context'].replace('\"', '\\\\\"').replace('\\n','')\n",
    "            the_file.write('{\"index\":{\"_index\":\"context\",\"_id\":\"'+reference+'\"}}\\n')\n",
    "            the_file.write('{\"context\":\"'+context+'\"}\\n')"
   ]
  },
  {
   "cell_type": "code",
   "execution_count": null,
   "metadata": {
    "collapsed": true
   },
   "outputs": [],
   "source": []
  }
 ],
 "metadata": {
  "kernelspec": {
   "display_name": "Python 3",
   "language": "python",
   "name": "python3"
  },
  "language_info": {
   "codemirror_mode": {
    "name": "ipython",
    "version": 2
   },
   "file_extension": ".py",
   "mimetype": "text/x-python",
   "name": "python",
   "nbconvert_exporter": "python",
   "pygments_lexer": "ipython2",
   "version": "2.7.13"
  }
 },
 "nbformat": 4,
 "nbformat_minor": 2
}
